{
 "cells": [
  {
   "cell_type": "code",
   "execution_count": 186,
   "metadata": {},
   "outputs": [],
   "source": [
    "#Necessary libraries\n",
    "import pandas as pd\n",
    "import pickle  # Serialización deserialización de tipos de datos\n",
    "from scipy.stats import poisson"
   ]
  },
  {
   "cell_type": "code",
   "execution_count": 187,
   "metadata": {},
   "outputs": [],
   "source": [
    "with open('dict_grupos', 'rb') as g:\n",
    "    dict_groups = pd.read_pickle(g)\n",
    "\n",
    "df_fixture = pd.read_csv('fifa_worldcup_fixture.csv')"
   ]
  },
  {
   "cell_type": "markdown",
   "metadata": {},
   "source": [
    "### Cálculo de la forateleza de un equipo en relación con sus anotaciones"
   ]
  },
  {
   "cell_type": "code",
   "execution_count": 188,
   "metadata": {},
   "outputs": [
    {
     "data": {
      "text/html": [
       "<div>\n",
       "<style scoped>\n",
       "    .dataframe tbody tr th:only-of-type {\n",
       "        vertical-align: middle;\n",
       "    }\n",
       "\n",
       "    .dataframe tbody tr th {\n",
       "        vertical-align: top;\n",
       "    }\n",
       "\n",
       "    .dataframe thead th {\n",
       "        text-align: right;\n",
       "    }\n",
       "</style>\n",
       "<table border=\"1\" class=\"dataframe\">\n",
       "  <thead>\n",
       "    <tr style=\"text-align: right;\">\n",
       "      <th></th>\n",
       "      <th>GoalsScored</th>\n",
       "      <th>GoalsConceded</th>\n",
       "    </tr>\n",
       "    <tr>\n",
       "      <th>Team</th>\n",
       "      <th></th>\n",
       "      <th></th>\n",
       "    </tr>\n",
       "  </thead>\n",
       "  <tbody>\n",
       "    <tr>\n",
       "      <th>Algeria</th>\n",
       "      <td>1.000000</td>\n",
       "      <td>1.461538</td>\n",
       "    </tr>\n",
       "    <tr>\n",
       "      <th>Angola</th>\n",
       "      <td>0.333333</td>\n",
       "      <td>0.666667</td>\n",
       "    </tr>\n",
       "    <tr>\n",
       "      <th>Argentina</th>\n",
       "      <td>1.752941</td>\n",
       "      <td>1.164706</td>\n",
       "    </tr>\n",
       "    <tr>\n",
       "      <th>Australia</th>\n",
       "      <td>0.850000</td>\n",
       "      <td>1.850000</td>\n",
       "    </tr>\n",
       "    <tr>\n",
       "      <th>Austria</th>\n",
       "      <td>1.576923</td>\n",
       "      <td>1.692308</td>\n",
       "    </tr>\n",
       "    <tr>\n",
       "      <th>...</th>\n",
       "      <td>...</td>\n",
       "      <td>...</td>\n",
       "    </tr>\n",
       "    <tr>\n",
       "      <th>Uruguay</th>\n",
       "      <td>1.553571</td>\n",
       "      <td>1.303571</td>\n",
       "    </tr>\n",
       "    <tr>\n",
       "      <th>Wales</th>\n",
       "      <td>0.625000</td>\n",
       "      <td>1.250000</td>\n",
       "    </tr>\n",
       "    <tr>\n",
       "      <th>West Germany</th>\n",
       "      <td>2.050847</td>\n",
       "      <td>1.254237</td>\n",
       "    </tr>\n",
       "    <tr>\n",
       "      <th>Yugoslavia</th>\n",
       "      <td>1.633333</td>\n",
       "      <td>1.233333</td>\n",
       "    </tr>\n",
       "    <tr>\n",
       "      <th>Zaire</th>\n",
       "      <td>0.000000</td>\n",
       "      <td>4.666667</td>\n",
       "    </tr>\n",
       "  </tbody>\n",
       "</table>\n",
       "<p>85 rows × 2 columns</p>\n",
       "</div>"
      ],
      "text/plain": [
       "              GoalsScored  GoalsConceded\n",
       "Team                                    \n",
       "Algeria          1.000000       1.461538\n",
       "Angola           0.333333       0.666667\n",
       "Argentina        1.752941       1.164706\n",
       "Australia        0.850000       1.850000\n",
       "Austria          1.576923       1.692308\n",
       "...                   ...            ...\n",
       "Uruguay          1.553571       1.303571\n",
       "Wales            0.625000       1.250000\n",
       "West Germany     2.050847       1.254237\n",
       "Yugoslavia       1.633333       1.233333\n",
       "Zaire            0.000000       4.666667\n",
       "\n",
       "[85 rows x 2 columns]"
      ]
     },
     "execution_count": 188,
     "metadata": {},
     "output_type": "execute_result"
    }
   ],
   "source": [
    "cups = pd.read_csv('clean_data.csv')\n",
    "df_home = cups[['Home', 'Home score', 'Away score']]\n",
    "df_away = cups[['Away', 'Home score', 'Away score']]\n",
    "\n",
    "df_home = df_home.rename(columns={'Home':'Team', 'Home score':'GoalsScored','Away score':'GoalsConceded'})\n",
    "df_away = df_away.rename(columns={'Away':'Team', 'Home score': 'GoalsConceded','Away score':'GoalsScored'})\n",
    "\n",
    "df_strength = pd.concat([df_home, df_away], ignore_index=True).groupby('Team').mean()\n",
    "df_strength"
   ]
  },
  {
   "cell_type": "code",
   "execution_count": 189,
   "metadata": {},
   "outputs": [
    {
     "data": {
      "text/plain": [
       "Index(['Algeria', 'Angola', 'Argentina', 'Australia', 'Austria', 'Belgium',\n",
       "       'Bolivia', 'Bosnia and Herzegovina', 'Brazil', 'Bulgaria', 'Cameroon',\n",
       "       'Canada', 'Chile', 'China', 'Colombia', 'Costa Rica', 'Croatia', 'Cuba',\n",
       "       'Czech Republic', 'Czechoslovakia', 'Denmark', 'Dutch East Indies',\n",
       "       'East Germany', 'Ecuador', 'Egypt', 'El Salvador', 'England',\n",
       "       'FR Yugoslavia', 'France', 'Germany', 'Ghana', 'Greece', 'Haiti',\n",
       "       'Honduras', 'Hungary', 'Iceland', 'Iran', 'Iraq', 'Israel', 'Italy',\n",
       "       'Ivory Coast', 'Jamaica', 'Japan', 'Kuwait', 'Mexico', 'Morocco',\n",
       "       'Netherlands', 'New Zealand', 'Nigeria', 'North Korea',\n",
       "       'Northern Ireland', 'Norway', 'Panama', 'Paraguay', 'Peru', 'Poland',\n",
       "       'Portugal', 'Qatar', 'Republic of Ireland', 'Romania', 'Russia',\n",
       "       'Saudi Arabia', 'Scotland', 'Senegal', 'Serbia',\n",
       "       'Serbia and Montenegro', 'Slovakia', 'Slovenia', 'South Africa',\n",
       "       'South Korea', 'Soviet Union', 'Spain', 'Sweden', 'Switzerland', 'Togo',\n",
       "       'Trinidad and Tobago', 'Tunisia', 'Turkey', 'Ukraine', 'United States',\n",
       "       'Uruguay', 'Wales', 'West Germany', 'Yugoslavia', 'Zaire'],\n",
       "      dtype='object', name='Team')"
      ]
     },
     "execution_count": 189,
     "metadata": {},
     "output_type": "execute_result"
    }
   ],
   "source": [
    "df_strength.index"
   ]
  },
  {
   "cell_type": "markdown",
   "metadata": {},
   "source": [
    "### Predicción Ganador\n"
   ]
  },
  {
   "cell_type": "code",
   "execution_count": 190,
   "metadata": {},
   "outputs": [],
   "source": [
    "def predict_winner(home, away):\n",
    "    if home in df_strength.index and away in df_strength.index:\n",
    "        l_home = df_strength.at[home,'GoalsScored']*df_strength.at[away,'GoalsConceded']\n",
    "        l_away = df_strength.at[away,'GoalsScored']*df_strength.at[home,'GoalsConceded']\n",
    "        p_home, p_away, p_draw = 0, 0, 0\n",
    "\n",
    "        for x in range(0,11):\n",
    "            for y in range(0,11):\n",
    "                p = poisson.pmf(x, l_home)*poisson.pmf(y,l_away)\n",
    "                if x == y:\n",
    "                    p_draw +=p\n",
    "                elif x > y:\n",
    "                    p_home +=p\n",
    "                else:\n",
    "                    p_away +=p\n",
    "        \n",
    "        points_home = 3*p_home + p_draw\n",
    "        points_away = 3*p_away + p_draw\n",
    "        return (points_home, points_away)\n",
    "    else:\n",
    "        return (0,0)"
   ]
  },
  {
   "cell_type": "markdown",
   "metadata": {},
   "source": [
    "### Testeo de función"
   ]
  },
  {
   "cell_type": "code",
   "execution_count": 191,
   "metadata": {},
   "outputs": [
    {
     "data": {
      "text/plain": [
       "(0.6975349047221162, 2.126680652359251)"
      ]
     },
     "execution_count": 191,
     "metadata": {},
     "output_type": "execute_result"
    }
   ],
   "source": [
    "predict_winner('Senegal', 'Netherlands')"
   ]
  },
  {
   "cell_type": "markdown",
   "metadata": {},
   "source": [
    "### Predicción de la copa"
   ]
  },
  {
   "cell_type": "markdown",
   "metadata": {},
   "source": [
    "#### Fase de grupos"
   ]
  },
  {
   "cell_type": "code",
   "execution_count": 192,
   "metadata": {},
   "outputs": [],
   "source": [
    "df_matches_48 = df_fixture[:48].copy()\n",
    "df_matches_knockout = df_fixture[48:56].copy()\n",
    "df_matches_quarter = df_fixture[56:60].copy()\n",
    "df_matches_semifinal = df_fixture[60:62].copy()\n",
    "df_matches_final = df_fixture[62:].copy()"
   ]
  },
  {
   "cell_type": "code",
   "execution_count": null,
   "metadata": {},
   "outputs": [],
   "source": [
    "df_matches_48['home'] = df_matches_48['home'].str.strip()\n",
    "for group in dict_groups:\n",
    "    teams_group = dict_groups[group]['Team'].values\n",
    "    six_groups = df_matches_48[df_matches_48['home'].isin(teams_group)]\n",
    "    for i, row in six_groups.iterrows():\n",
    "        home, away = row['home'], row['away']\n",
    "        home = home.strip()\n",
    "        away = away.strip()\n",
    "        points_home, points_away = predict_winner(home, away)\n",
    "        dict_groups[group].loc[dict_groups[group]['Team'] == home , 'Pts'] += points_home\n",
    "        dict_groups[group].loc[dict_groups[group]['Team'] == away , 'Pts'] += points_away\n",
    "    \n",
    "    dict_groups[group] = dict_groups[group].sort_values('Pts', ascending=False).reset_index()\n",
    "    dict_groups[group] = dict_groups[group][['Team', 'Pts']]\n",
    "    dict_groups[group] = dict_groups[group].round(0)"
   ]
  },
  {
   "cell_type": "code",
   "execution_count": 194,
   "metadata": {},
   "outputs": [
    {
     "data": {
      "text/html": [
       "<div>\n",
       "<style scoped>\n",
       "    .dataframe tbody tr th:only-of-type {\n",
       "        vertical-align: middle;\n",
       "    }\n",
       "\n",
       "    .dataframe tbody tr th {\n",
       "        vertical-align: top;\n",
       "    }\n",
       "\n",
       "    .dataframe thead th {\n",
       "        text-align: right;\n",
       "    }\n",
       "</style>\n",
       "<table border=\"1\" class=\"dataframe\">\n",
       "  <thead>\n",
       "    <tr style=\"text-align: right;\">\n",
       "      <th></th>\n",
       "      <th>Team</th>\n",
       "      <th>Pts</th>\n",
       "    </tr>\n",
       "  </thead>\n",
       "  <tbody>\n",
       "    <tr>\n",
       "      <th>0</th>\n",
       "      <td>France</td>\n",
       "      <td>7.0</td>\n",
       "    </tr>\n",
       "    <tr>\n",
       "      <th>1</th>\n",
       "      <td>Denmark</td>\n",
       "      <td>5.0</td>\n",
       "    </tr>\n",
       "    <tr>\n",
       "      <th>2</th>\n",
       "      <td>Tunisia</td>\n",
       "      <td>3.0</td>\n",
       "    </tr>\n",
       "    <tr>\n",
       "      <th>3</th>\n",
       "      <td>Australia</td>\n",
       "      <td>2.0</td>\n",
       "    </tr>\n",
       "  </tbody>\n",
       "</table>\n",
       "</div>"
      ],
      "text/plain": [
       "        Team  Pts\n",
       "0     France  7.0\n",
       "1    Denmark  5.0\n",
       "2    Tunisia  3.0\n",
       "3  Australia  2.0"
      ]
     },
     "execution_count": 194,
     "metadata": {},
     "output_type": "execute_result"
    }
   ],
   "source": [
    "dict_groups['Grupo D']\n"
   ]
  },
  {
   "cell_type": "markdown",
   "metadata": {},
   "source": [
    "#### Octavos"
   ]
  },
  {
   "cell_type": "code",
   "execution_count": 195,
   "metadata": {},
   "outputs": [
    {
     "data": {
      "text/html": [
       "<div>\n",
       "<style scoped>\n",
       "    .dataframe tbody tr th:only-of-type {\n",
       "        vertical-align: middle;\n",
       "    }\n",
       "\n",
       "    .dataframe tbody tr th {\n",
       "        vertical-align: top;\n",
       "    }\n",
       "\n",
       "    .dataframe thead th {\n",
       "        text-align: right;\n",
       "    }\n",
       "</style>\n",
       "<table border=\"1\" class=\"dataframe\">\n",
       "  <thead>\n",
       "    <tr style=\"text-align: right;\">\n",
       "      <th></th>\n",
       "      <th>home</th>\n",
       "      <th>score</th>\n",
       "      <th>away</th>\n",
       "      <th>year</th>\n",
       "    </tr>\n",
       "  </thead>\n",
       "  <tbody>\n",
       "    <tr>\n",
       "      <th>48</th>\n",
       "      <td>Winners Group A</td>\n",
       "      <td>Match 49</td>\n",
       "      <td>Runners-up Group B</td>\n",
       "      <td>2022</td>\n",
       "    </tr>\n",
       "    <tr>\n",
       "      <th>49</th>\n",
       "      <td>Winners Group C</td>\n",
       "      <td>Match 50</td>\n",
       "      <td>Runners-up Group D</td>\n",
       "      <td>2022</td>\n",
       "    </tr>\n",
       "    <tr>\n",
       "      <th>50</th>\n",
       "      <td>Winners Group D</td>\n",
       "      <td>Match 52</td>\n",
       "      <td>Runners-up Group C</td>\n",
       "      <td>2022</td>\n",
       "    </tr>\n",
       "    <tr>\n",
       "      <th>51</th>\n",
       "      <td>Winners Group B</td>\n",
       "      <td>Match 51</td>\n",
       "      <td>Runners-up Group A</td>\n",
       "      <td>2022</td>\n",
       "    </tr>\n",
       "    <tr>\n",
       "      <th>52</th>\n",
       "      <td>Winners Group E</td>\n",
       "      <td>Match 53</td>\n",
       "      <td>Runners-up Group F</td>\n",
       "      <td>2022</td>\n",
       "    </tr>\n",
       "    <tr>\n",
       "      <th>53</th>\n",
       "      <td>Winners Group G</td>\n",
       "      <td>Match 54</td>\n",
       "      <td>Runners-up Group H</td>\n",
       "      <td>2022</td>\n",
       "    </tr>\n",
       "    <tr>\n",
       "      <th>54</th>\n",
       "      <td>Winners Group F</td>\n",
       "      <td>Match 55</td>\n",
       "      <td>Runners-up Group E</td>\n",
       "      <td>2022</td>\n",
       "    </tr>\n",
       "    <tr>\n",
       "      <th>55</th>\n",
       "      <td>Winners Group H</td>\n",
       "      <td>Match 56</td>\n",
       "      <td>Runners-up Group G</td>\n",
       "      <td>2022</td>\n",
       "    </tr>\n",
       "  </tbody>\n",
       "</table>\n",
       "</div>"
      ],
      "text/plain": [
       "               home     score                away  year\n",
       "48  Winners Group A  Match 49  Runners-up Group B  2022\n",
       "49  Winners Group C  Match 50  Runners-up Group D  2022\n",
       "50  Winners Group D  Match 52  Runners-up Group C  2022\n",
       "51  Winners Group B  Match 51  Runners-up Group A  2022\n",
       "52  Winners Group E  Match 53  Runners-up Group F  2022\n",
       "53  Winners Group G  Match 54  Runners-up Group H  2022\n",
       "54  Winners Group F  Match 55  Runners-up Group E  2022\n",
       "55  Winners Group H  Match 56  Runners-up Group G  2022"
      ]
     },
     "execution_count": 195,
     "metadata": {},
     "output_type": "execute_result"
    }
   ],
   "source": [
    "df_matches_knockout"
   ]
  },
  {
   "cell_type": "code",
   "execution_count": 196,
   "metadata": {},
   "outputs": [
    {
     "data": {
      "text/html": [
       "<div>\n",
       "<style scoped>\n",
       "    .dataframe tbody tr th:only-of-type {\n",
       "        vertical-align: middle;\n",
       "    }\n",
       "\n",
       "    .dataframe tbody tr th {\n",
       "        vertical-align: top;\n",
       "    }\n",
       "\n",
       "    .dataframe thead th {\n",
       "        text-align: right;\n",
       "    }\n",
       "</style>\n",
       "<table border=\"1\" class=\"dataframe\">\n",
       "  <thead>\n",
       "    <tr style=\"text-align: right;\">\n",
       "      <th></th>\n",
       "      <th>home</th>\n",
       "      <th>score</th>\n",
       "      <th>away</th>\n",
       "      <th>year</th>\n",
       "      <th>winner</th>\n",
       "    </tr>\n",
       "  </thead>\n",
       "  <tbody>\n",
       "    <tr>\n",
       "      <th>48</th>\n",
       "      <td>Netherlands</td>\n",
       "      <td>Match 49</td>\n",
       "      <td>United States</td>\n",
       "      <td>2022</td>\n",
       "      <td>*</td>\n",
       "    </tr>\n",
       "    <tr>\n",
       "      <th>49</th>\n",
       "      <td>Argentina</td>\n",
       "      <td>Match 50</td>\n",
       "      <td>Denmark</td>\n",
       "      <td>2022</td>\n",
       "      <td>*</td>\n",
       "    </tr>\n",
       "    <tr>\n",
       "      <th>50</th>\n",
       "      <td>France</td>\n",
       "      <td>Match 52</td>\n",
       "      <td>Poland</td>\n",
       "      <td>2022</td>\n",
       "      <td>*</td>\n",
       "    </tr>\n",
       "    <tr>\n",
       "      <th>51</th>\n",
       "      <td>England</td>\n",
       "      <td>Match 51</td>\n",
       "      <td>Ecuador</td>\n",
       "      <td>2022</td>\n",
       "      <td>*</td>\n",
       "    </tr>\n",
       "    <tr>\n",
       "      <th>52</th>\n",
       "      <td>Germany</td>\n",
       "      <td>Match 53</td>\n",
       "      <td>Belgium</td>\n",
       "      <td>2022</td>\n",
       "      <td>*</td>\n",
       "    </tr>\n",
       "    <tr>\n",
       "      <th>53</th>\n",
       "      <td>Brazil</td>\n",
       "      <td>Match 54</td>\n",
       "      <td>Uruguay</td>\n",
       "      <td>2022</td>\n",
       "      <td>*</td>\n",
       "    </tr>\n",
       "    <tr>\n",
       "      <th>54</th>\n",
       "      <td>Croatia</td>\n",
       "      <td>Match 55</td>\n",
       "      <td>Spain</td>\n",
       "      <td>2022</td>\n",
       "      <td>*</td>\n",
       "    </tr>\n",
       "    <tr>\n",
       "      <th>55</th>\n",
       "      <td>Portugal</td>\n",
       "      <td>Match 56</td>\n",
       "      <td>Switzerland</td>\n",
       "      <td>2022</td>\n",
       "      <td>*</td>\n",
       "    </tr>\n",
       "  </tbody>\n",
       "</table>\n",
       "</div>"
      ],
      "text/plain": [
       "           home     score           away  year winner\n",
       "48  Netherlands  Match 49  United States  2022      *\n",
       "49    Argentina  Match 50        Denmark  2022      *\n",
       "50       France  Match 52         Poland  2022      *\n",
       "51      England  Match 51        Ecuador  2022      *\n",
       "52      Germany  Match 53        Belgium  2022      *\n",
       "53       Brazil  Match 54        Uruguay  2022      *\n",
       "54      Croatia  Match 55          Spain  2022      *\n",
       "55     Portugal  Match 56    Switzerland  2022      *"
      ]
     },
     "execution_count": 196,
     "metadata": {},
     "output_type": "execute_result"
    }
   ],
   "source": [
    "#Actualizar calendario de octavos\n",
    "group_winner = dict_groups[group].loc[0, 'Team']\n",
    "runners_up  = dict_groups[group].loc[0, 'Team']\n",
    "df_matches_knockout.replace({'Winners Group A': dict_groups['Grupo A'].loc[0, 'Team'],'Runners-up Group B': dict_groups['Grupo B'].loc[1, 'Team']}, inplace=True)\n",
    "df_matches_knockout.replace({'Winners Group C': dict_groups['Grupo C'].loc[0, 'Team'],'Runners-up Group D': dict_groups['Grupo D'].loc[1, 'Team']}, inplace=True)\n",
    "df_matches_knockout.replace({'Winners Group D': dict_groups['Grupo D'].loc[0, 'Team'],'Runners-up Group C': dict_groups['Grupo C'].loc[1, 'Team']}, inplace=True)\n",
    "df_matches_knockout.replace({'Winners Group B': dict_groups['Grupo B'].loc[0, 'Team'],'Runners-up Group A': dict_groups['Grupo A'].loc[1, 'Team']}, inplace=True)\n",
    "df_matches_knockout.replace({'Winners Group E': dict_groups['Grupo E'].loc[0, 'Team'],'Runners-up Group F': dict_groups['Grupo F'].loc[1, 'Team']}, inplace=True)\n",
    "df_matches_knockout.replace({'Winners Group G': dict_groups['Grupo G'].loc[0, 'Team'],'Runners-up Group H': dict_groups['Grupo H'].loc[1, 'Team']}, inplace=True)\n",
    "df_matches_knockout.replace({'Winners Group F': dict_groups['Grupo F'].loc[0, 'Team'],'Runners-up Group E': dict_groups['Grupo E'].loc[1, 'Team']}, inplace=True)\n",
    "df_matches_knockout.replace({'Winners Group H': dict_groups['Grupo H'].loc[0, 'Team'],'Runners-up Group G': dict_groups['Grupo G'].loc[1, 'Team']}, inplace=True)\n",
    "\n",
    "df_matches_knockout['winner'] = '*'\n",
    "df_matches_knockout"
   ]
  },
  {
   "cell_type": "code",
   "execution_count": 197,
   "metadata": {},
   "outputs": [],
   "source": [
    "def winner(df_knockout_upd):\n",
    "    for index, row in df_knockout_upd.iterrows():\n",
    "        home, away = row['home'], row['away']\n",
    "        points_home, points_away = predict_winner(home, away)\n",
    "        if points_home > points_away:\n",
    "            winr = home\n",
    "        else:\n",
    "            winr = away\n",
    "\n",
    "        df_knockout_upd.loc[index, 'winner'] = winr\n",
    "\n",
    "    return df_knockout_upd"
   ]
  },
  {
   "cell_type": "code",
   "execution_count": 198,
   "metadata": {},
   "outputs": [
    {
     "data": {
      "text/html": [
       "<div>\n",
       "<style scoped>\n",
       "    .dataframe tbody tr th:only-of-type {\n",
       "        vertical-align: middle;\n",
       "    }\n",
       "\n",
       "    .dataframe tbody tr th {\n",
       "        vertical-align: top;\n",
       "    }\n",
       "\n",
       "    .dataframe thead th {\n",
       "        text-align: right;\n",
       "    }\n",
       "</style>\n",
       "<table border=\"1\" class=\"dataframe\">\n",
       "  <thead>\n",
       "    <tr style=\"text-align: right;\">\n",
       "      <th></th>\n",
       "      <th>home</th>\n",
       "      <th>score</th>\n",
       "      <th>away</th>\n",
       "      <th>year</th>\n",
       "      <th>winner</th>\n",
       "    </tr>\n",
       "  </thead>\n",
       "  <tbody>\n",
       "    <tr>\n",
       "      <th>48</th>\n",
       "      <td>Netherlands</td>\n",
       "      <td>Match 49</td>\n",
       "      <td>United States</td>\n",
       "      <td>2022</td>\n",
       "      <td>Netherlands</td>\n",
       "    </tr>\n",
       "    <tr>\n",
       "      <th>49</th>\n",
       "      <td>Argentina</td>\n",
       "      <td>Match 50</td>\n",
       "      <td>Denmark</td>\n",
       "      <td>2022</td>\n",
       "      <td>Argentina</td>\n",
       "    </tr>\n",
       "    <tr>\n",
       "      <th>50</th>\n",
       "      <td>France</td>\n",
       "      <td>Match 52</td>\n",
       "      <td>Poland</td>\n",
       "      <td>2022</td>\n",
       "      <td>France</td>\n",
       "    </tr>\n",
       "    <tr>\n",
       "      <th>51</th>\n",
       "      <td>England</td>\n",
       "      <td>Match 51</td>\n",
       "      <td>Ecuador</td>\n",
       "      <td>2022</td>\n",
       "      <td>England</td>\n",
       "    </tr>\n",
       "    <tr>\n",
       "      <th>52</th>\n",
       "      <td>Germany</td>\n",
       "      <td>Match 53</td>\n",
       "      <td>Belgium</td>\n",
       "      <td>2022</td>\n",
       "      <td>Germany</td>\n",
       "    </tr>\n",
       "    <tr>\n",
       "      <th>53</th>\n",
       "      <td>Brazil</td>\n",
       "      <td>Match 54</td>\n",
       "      <td>Uruguay</td>\n",
       "      <td>2022</td>\n",
       "      <td>Brazil</td>\n",
       "    </tr>\n",
       "    <tr>\n",
       "      <th>54</th>\n",
       "      <td>Croatia</td>\n",
       "      <td>Match 55</td>\n",
       "      <td>Spain</td>\n",
       "      <td>2022</td>\n",
       "      <td>Spain</td>\n",
       "    </tr>\n",
       "    <tr>\n",
       "      <th>55</th>\n",
       "      <td>Portugal</td>\n",
       "      <td>Match 56</td>\n",
       "      <td>Switzerland</td>\n",
       "      <td>2022</td>\n",
       "      <td>Portugal</td>\n",
       "    </tr>\n",
       "  </tbody>\n",
       "</table>\n",
       "</div>"
      ],
      "text/plain": [
       "           home     score           away  year       winner\n",
       "48  Netherlands  Match 49  United States  2022  Netherlands\n",
       "49    Argentina  Match 50        Denmark  2022    Argentina\n",
       "50       France  Match 52         Poland  2022       France\n",
       "51      England  Match 51        Ecuador  2022      England\n",
       "52      Germany  Match 53        Belgium  2022      Germany\n",
       "53       Brazil  Match 54        Uruguay  2022       Brazil\n",
       "54      Croatia  Match 55          Spain  2022        Spain\n",
       "55     Portugal  Match 56    Switzerland  2022     Portugal"
      ]
     },
     "execution_count": 198,
     "metadata": {},
     "output_type": "execute_result"
    }
   ],
   "source": [
    "winner(df_matches_knockout)"
   ]
  },
  {
   "cell_type": "markdown",
   "metadata": {},
   "source": [
    "#### Cuartos de Final"
   ]
  },
  {
   "cell_type": "code",
   "execution_count": 199,
   "metadata": {},
   "outputs": [
    {
     "data": {
      "text/html": [
       "<div>\n",
       "<style scoped>\n",
       "    .dataframe tbody tr th:only-of-type {\n",
       "        vertical-align: middle;\n",
       "    }\n",
       "\n",
       "    .dataframe tbody tr th {\n",
       "        vertical-align: top;\n",
       "    }\n",
       "\n",
       "    .dataframe thead th {\n",
       "        text-align: right;\n",
       "    }\n",
       "</style>\n",
       "<table border=\"1\" class=\"dataframe\">\n",
       "  <thead>\n",
       "    <tr style=\"text-align: right;\">\n",
       "      <th></th>\n",
       "      <th>home</th>\n",
       "      <th>score</th>\n",
       "      <th>away</th>\n",
       "      <th>year</th>\n",
       "    </tr>\n",
       "  </thead>\n",
       "  <tbody>\n",
       "    <tr>\n",
       "      <th>56</th>\n",
       "      <td>Winners Match 53</td>\n",
       "      <td>Match 58</td>\n",
       "      <td>Winners Match 54</td>\n",
       "      <td>2022</td>\n",
       "    </tr>\n",
       "    <tr>\n",
       "      <th>57</th>\n",
       "      <td>Winners Match 49</td>\n",
       "      <td>Match 57</td>\n",
       "      <td>Winners Match 50</td>\n",
       "      <td>2022</td>\n",
       "    </tr>\n",
       "    <tr>\n",
       "      <th>58</th>\n",
       "      <td>Winners Match 55</td>\n",
       "      <td>Match 60</td>\n",
       "      <td>Winners Match 56</td>\n",
       "      <td>2022</td>\n",
       "    </tr>\n",
       "    <tr>\n",
       "      <th>59</th>\n",
       "      <td>Winners Match 51</td>\n",
       "      <td>Match 59</td>\n",
       "      <td>Winners Match 52</td>\n",
       "      <td>2022</td>\n",
       "    </tr>\n",
       "  </tbody>\n",
       "</table>\n",
       "</div>"
      ],
      "text/plain": [
       "                home     score              away  year\n",
       "56  Winners Match 53  Match 58  Winners Match 54  2022\n",
       "57  Winners Match 49  Match 57  Winners Match 50  2022\n",
       "58  Winners Match 55  Match 60  Winners Match 56  2022\n",
       "59  Winners Match 51  Match 59  Winners Match 52  2022"
      ]
     },
     "execution_count": 199,
     "metadata": {},
     "output_type": "execute_result"
    }
   ],
   "source": [
    "df_matches_quarter"
   ]
  },
  {
   "cell_type": "code",
   "execution_count": 200,
   "metadata": {},
   "outputs": [],
   "source": [
    "def update_fixture(df_fixture_past, df_fixture_present):\n",
    "    for index, row in df_fixture_past.iterrows():\n",
    "        winr = df_fixture_past.loc[index,'winner']\n",
    "        match = df_fixture_past.loc[index, 'score']\n",
    "        df_fixture_present.replace({f'Winners {match}': winr}, inplace=True)\n",
    "    df_fixture_present['winner'] = '*'\n",
    "    return df_fixture_present"
   ]
  },
  {
   "cell_type": "code",
   "execution_count": 201,
   "metadata": {},
   "outputs": [
    {
     "data": {
      "text/html": [
       "<div>\n",
       "<style scoped>\n",
       "    .dataframe tbody tr th:only-of-type {\n",
       "        vertical-align: middle;\n",
       "    }\n",
       "\n",
       "    .dataframe tbody tr th {\n",
       "        vertical-align: top;\n",
       "    }\n",
       "\n",
       "    .dataframe thead th {\n",
       "        text-align: right;\n",
       "    }\n",
       "</style>\n",
       "<table border=\"1\" class=\"dataframe\">\n",
       "  <thead>\n",
       "    <tr style=\"text-align: right;\">\n",
       "      <th></th>\n",
       "      <th>home</th>\n",
       "      <th>score</th>\n",
       "      <th>away</th>\n",
       "      <th>year</th>\n",
       "      <th>winner</th>\n",
       "    </tr>\n",
       "  </thead>\n",
       "  <tbody>\n",
       "    <tr>\n",
       "      <th>56</th>\n",
       "      <td>Germany</td>\n",
       "      <td>Match 58</td>\n",
       "      <td>Brazil</td>\n",
       "      <td>2022</td>\n",
       "      <td>*</td>\n",
       "    </tr>\n",
       "    <tr>\n",
       "      <th>57</th>\n",
       "      <td>Netherlands</td>\n",
       "      <td>Match 57</td>\n",
       "      <td>Argentina</td>\n",
       "      <td>2022</td>\n",
       "      <td>*</td>\n",
       "    </tr>\n",
       "    <tr>\n",
       "      <th>58</th>\n",
       "      <td>Spain</td>\n",
       "      <td>Match 60</td>\n",
       "      <td>Portugal</td>\n",
       "      <td>2022</td>\n",
       "      <td>*</td>\n",
       "    </tr>\n",
       "    <tr>\n",
       "      <th>59</th>\n",
       "      <td>England</td>\n",
       "      <td>Match 59</td>\n",
       "      <td>France</td>\n",
       "      <td>2022</td>\n",
       "      <td>*</td>\n",
       "    </tr>\n",
       "  </tbody>\n",
       "</table>\n",
       "</div>"
      ],
      "text/plain": [
       "           home     score       away  year winner\n",
       "56      Germany  Match 58     Brazil  2022      *\n",
       "57  Netherlands  Match 57  Argentina  2022      *\n",
       "58        Spain  Match 60   Portugal  2022      *\n",
       "59      England  Match 59     France  2022      *"
      ]
     },
     "execution_count": 201,
     "metadata": {},
     "output_type": "execute_result"
    }
   ],
   "source": [
    "update_fixture(df_matches_knockout, df_matches_quarter)\n"
   ]
  },
  {
   "cell_type": "code",
   "execution_count": 202,
   "metadata": {},
   "outputs": [
    {
     "data": {
      "text/html": [
       "<div>\n",
       "<style scoped>\n",
       "    .dataframe tbody tr th:only-of-type {\n",
       "        vertical-align: middle;\n",
       "    }\n",
       "\n",
       "    .dataframe tbody tr th {\n",
       "        vertical-align: top;\n",
       "    }\n",
       "\n",
       "    .dataframe thead th {\n",
       "        text-align: right;\n",
       "    }\n",
       "</style>\n",
       "<table border=\"1\" class=\"dataframe\">\n",
       "  <thead>\n",
       "    <tr style=\"text-align: right;\">\n",
       "      <th></th>\n",
       "      <th>home</th>\n",
       "      <th>score</th>\n",
       "      <th>away</th>\n",
       "      <th>year</th>\n",
       "      <th>winner</th>\n",
       "    </tr>\n",
       "  </thead>\n",
       "  <tbody>\n",
       "    <tr>\n",
       "      <th>56</th>\n",
       "      <td>Germany</td>\n",
       "      <td>Match 58</td>\n",
       "      <td>Brazil</td>\n",
       "      <td>2022</td>\n",
       "      <td>Brazil</td>\n",
       "    </tr>\n",
       "    <tr>\n",
       "      <th>57</th>\n",
       "      <td>Netherlands</td>\n",
       "      <td>Match 57</td>\n",
       "      <td>Argentina</td>\n",
       "      <td>2022</td>\n",
       "      <td>Netherlands</td>\n",
       "    </tr>\n",
       "    <tr>\n",
       "      <th>58</th>\n",
       "      <td>Spain</td>\n",
       "      <td>Match 60</td>\n",
       "      <td>Portugal</td>\n",
       "      <td>2022</td>\n",
       "      <td>Portugal</td>\n",
       "    </tr>\n",
       "    <tr>\n",
       "      <th>59</th>\n",
       "      <td>England</td>\n",
       "      <td>Match 59</td>\n",
       "      <td>France</td>\n",
       "      <td>2022</td>\n",
       "      <td>France</td>\n",
       "    </tr>\n",
       "  </tbody>\n",
       "</table>\n",
       "</div>"
      ],
      "text/plain": [
       "           home     score       away  year       winner\n",
       "56      Germany  Match 58     Brazil  2022       Brazil\n",
       "57  Netherlands  Match 57  Argentina  2022  Netherlands\n",
       "58        Spain  Match 60   Portugal  2022     Portugal\n",
       "59      England  Match 59     France  2022       France"
      ]
     },
     "execution_count": 202,
     "metadata": {},
     "output_type": "execute_result"
    }
   ],
   "source": [
    "winner(df_matches_quarter)"
   ]
  },
  {
   "cell_type": "markdown",
   "metadata": {},
   "source": [
    "#### Semifinal"
   ]
  },
  {
   "cell_type": "code",
   "execution_count": 203,
   "metadata": {},
   "outputs": [
    {
     "data": {
      "text/html": [
       "<div>\n",
       "<style scoped>\n",
       "    .dataframe tbody tr th:only-of-type {\n",
       "        vertical-align: middle;\n",
       "    }\n",
       "\n",
       "    .dataframe tbody tr th {\n",
       "        vertical-align: top;\n",
       "    }\n",
       "\n",
       "    .dataframe thead th {\n",
       "        text-align: right;\n",
       "    }\n",
       "</style>\n",
       "<table border=\"1\" class=\"dataframe\">\n",
       "  <thead>\n",
       "    <tr style=\"text-align: right;\">\n",
       "      <th></th>\n",
       "      <th>home</th>\n",
       "      <th>score</th>\n",
       "      <th>away</th>\n",
       "      <th>year</th>\n",
       "      <th>winner</th>\n",
       "    </tr>\n",
       "  </thead>\n",
       "  <tbody>\n",
       "    <tr>\n",
       "      <th>60</th>\n",
       "      <td>Netherlands</td>\n",
       "      <td>Match 61</td>\n",
       "      <td>Brazil</td>\n",
       "      <td>2022</td>\n",
       "      <td>*</td>\n",
       "    </tr>\n",
       "    <tr>\n",
       "      <th>61</th>\n",
       "      <td>France</td>\n",
       "      <td>Match 62</td>\n",
       "      <td>Portugal</td>\n",
       "      <td>2022</td>\n",
       "      <td>*</td>\n",
       "    </tr>\n",
       "  </tbody>\n",
       "</table>\n",
       "</div>"
      ],
      "text/plain": [
       "           home     score      away  year winner\n",
       "60  Netherlands  Match 61    Brazil  2022      *\n",
       "61       France  Match 62  Portugal  2022      *"
      ]
     },
     "execution_count": 203,
     "metadata": {},
     "output_type": "execute_result"
    }
   ],
   "source": [
    "update_fixture(df_matches_quarter, df_matches_semifinal)"
   ]
  },
  {
   "cell_type": "code",
   "execution_count": 205,
   "metadata": {},
   "outputs": [
    {
     "data": {
      "text/html": [
       "<div>\n",
       "<style scoped>\n",
       "    .dataframe tbody tr th:only-of-type {\n",
       "        vertical-align: middle;\n",
       "    }\n",
       "\n",
       "    .dataframe tbody tr th {\n",
       "        vertical-align: top;\n",
       "    }\n",
       "\n",
       "    .dataframe thead th {\n",
       "        text-align: right;\n",
       "    }\n",
       "</style>\n",
       "<table border=\"1\" class=\"dataframe\">\n",
       "  <thead>\n",
       "    <tr style=\"text-align: right;\">\n",
       "      <th></th>\n",
       "      <th>home</th>\n",
       "      <th>score</th>\n",
       "      <th>away</th>\n",
       "      <th>year</th>\n",
       "      <th>winner</th>\n",
       "    </tr>\n",
       "  </thead>\n",
       "  <tbody>\n",
       "    <tr>\n",
       "      <th>60</th>\n",
       "      <td>Netherlands</td>\n",
       "      <td>Match 61</td>\n",
       "      <td>Brazil</td>\n",
       "      <td>2022</td>\n",
       "      <td>Brazil</td>\n",
       "    </tr>\n",
       "    <tr>\n",
       "      <th>61</th>\n",
       "      <td>France</td>\n",
       "      <td>Match 62</td>\n",
       "      <td>Portugal</td>\n",
       "      <td>2022</td>\n",
       "      <td>France</td>\n",
       "    </tr>\n",
       "  </tbody>\n",
       "</table>\n",
       "</div>"
      ],
      "text/plain": [
       "           home     score      away  year  winner\n",
       "60  Netherlands  Match 61    Brazil  2022  Brazil\n",
       "61       France  Match 62  Portugal  2022  France"
      ]
     },
     "execution_count": 205,
     "metadata": {},
     "output_type": "execute_result"
    }
   ],
   "source": [
    "winner(df_matches_semifinal)"
   ]
  },
  {
   "cell_type": "markdown",
   "metadata": {},
   "source": [
    "### Final"
   ]
  },
  {
   "cell_type": "code",
   "execution_count": 206,
   "metadata": {},
   "outputs": [
    {
     "data": {
      "text/html": [
       "<div>\n",
       "<style scoped>\n",
       "    .dataframe tbody tr th:only-of-type {\n",
       "        vertical-align: middle;\n",
       "    }\n",
       "\n",
       "    .dataframe tbody tr th {\n",
       "        vertical-align: top;\n",
       "    }\n",
       "\n",
       "    .dataframe thead th {\n",
       "        text-align: right;\n",
       "    }\n",
       "</style>\n",
       "<table border=\"1\" class=\"dataframe\">\n",
       "  <thead>\n",
       "    <tr style=\"text-align: right;\">\n",
       "      <th></th>\n",
       "      <th>home</th>\n",
       "      <th>score</th>\n",
       "      <th>away</th>\n",
       "      <th>year</th>\n",
       "      <th>winner</th>\n",
       "    </tr>\n",
       "  </thead>\n",
       "  <tbody>\n",
       "    <tr>\n",
       "      <th>62</th>\n",
       "      <td>Losers Match 61</td>\n",
       "      <td>Match 63</td>\n",
       "      <td>Losers Match 62</td>\n",
       "      <td>2022</td>\n",
       "      <td>*</td>\n",
       "    </tr>\n",
       "    <tr>\n",
       "      <th>63</th>\n",
       "      <td>Brazil</td>\n",
       "      <td>Match 64</td>\n",
       "      <td>France</td>\n",
       "      <td>2022</td>\n",
       "      <td>*</td>\n",
       "    </tr>\n",
       "  </tbody>\n",
       "</table>\n",
       "</div>"
      ],
      "text/plain": [
       "               home     score             away  year winner\n",
       "62  Losers Match 61  Match 63  Losers Match 62  2022      *\n",
       "63           Brazil  Match 64           France  2022      *"
      ]
     },
     "execution_count": 206,
     "metadata": {},
     "output_type": "execute_result"
    }
   ],
   "source": [
    "update_fixture(df_matches_semifinal, df_matches_final)"
   ]
  },
  {
   "cell_type": "code",
   "execution_count": 210,
   "metadata": {},
   "outputs": [
    {
     "name": "stdout",
     "output_type": "stream",
     "text": [
      "El equipo ganador de la Copa del Mundo 2022 en Qatar es Brazil y el Subcampeón es France\n"
     ]
    }
   ],
   "source": [
    "#GANADOR\n",
    "winner(df_matches_final)\n",
    "\n",
    "print(f\"El equipo ganador de la Copa del Mundo 2022 en Qatar es {df_matches_final.loc[63,'winner']} y el Subcampeón es {df_matches_final.loc[63,'away']}\")"
   ]
  }
 ],
 "metadata": {
  "kernelspec": {
   "display_name": "Python 3",
   "language": "python",
   "name": "python3"
  },
  "language_info": {
   "codemirror_mode": {
    "name": "ipython",
    "version": 3
   },
   "file_extension": ".py",
   "mimetype": "text/x-python",
   "name": "python",
   "nbconvert_exporter": "python",
   "pygments_lexer": "ipython3",
   "version": "3.12.2"
  }
 },
 "nbformat": 4,
 "nbformat_minor": 2
}
