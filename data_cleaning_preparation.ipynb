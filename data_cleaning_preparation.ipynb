{
 "cells": [
  {
   "cell_type": "markdown",
   "metadata": {},
   "source": [
    "### Data cleaning and preparation"
   ]
  },
  {
   "cell_type": "code",
   "execution_count": 287,
   "metadata": {},
   "outputs": [],
   "source": [
    "#Libraries\n",
    "#!pip install pandas\n",
    "import pandas as pd\n",
    "import re"
   ]
  },
  {
   "cell_type": "code",
   "execution_count": 288,
   "metadata": {},
   "outputs": [],
   "source": [
    "df = pd.read_csv('fifa_cups.csv')\n",
    "df.columns\n",
    "\n",
    "df['home'] = df['home'].str.strip()\n",
    "df['away'] = df['away'].str.strip()\n",
    "\n",
    "df[df['home'].isnull()]\n",
    "df.dropna(inplace=True)\n",
    "#df.info()\n"
   ]
  },
  {
   "cell_type": "code",
   "execution_count": 289,
   "metadata": {},
   "outputs": [],
   "source": [
    "outlier = df[df['home'].str.contains('Sweden') & df['away'].str.contains('Austria') ]\n",
    "#df.drop(index=37, inplace= True)\n",
    "df.query(\"home == 'Sweden'\")\n",
    "\n",
    "patron = r'[a-zA-Z]'\n",
    "lista = df.score.tolist()\n",
    "\n",
    "condition = [i for i, row in enumerate(lista) if re.search(patron, row) is None]\n",
    "df_output = df.iloc[condition]\n",
    "\n",
    "df_output.reset_index(drop=True, inplace=True)\n",
    "df_output\n",
    "\n",
    "df.score = df.score.str.strip()\n",
    "utlier = df[df['home'].str.contains('Sweden') & df['away'].str.contains('Austria') ]\n",
    "df[df['home'].str.contains('Sweden') & df['away'].str.contains('Austria') ]\n",
    "#df[df.score.str.contains(r'[^\\d–]')]\n",
    "\n",
    "df['score']= df['score'].str.replace(r'[^\\d–]','',regex=True)\n",
    "df.reset_index(drop=True, inplace=True)\n",
    "\n",
    "\n",
    "df[['home_score', 'away_score']] = df['score'].str.split('–', expand=True)\n",
    "\n",
    "df.drop(columns=['score'], inplace=True)\n",
    "\n"
   ]
  },
  {
   "cell_type": "code",
   "execution_count": 290,
   "metadata": {},
   "outputs": [],
   "source": [
    "df.rename(columns={'home': 'Home', 'home_score':'Home score','away':'Away','away_score':'Away score', 'year':'Year'}, inplace=True)\n"
   ]
  },
  {
   "cell_type": "code",
   "execution_count": 291,
   "metadata": {},
   "outputs": [],
   "source": [
    "df = df[['Home', 'Home score', 'Away', 'Away score', 'Year']]\n"
   ]
  },
  {
   "cell_type": "code",
   "execution_count": 292,
   "metadata": {},
   "outputs": [],
   "source": [
    "\n",
    "df['Home score'] = df['Home score'].str.strip()\n",
    "df['Away score'] = df['Away score'].str.strip()\n",
    "\n",
    "#df = df.astype({'Home score':int, 'Away score':int, 'Year':int})\n",
    "\n"
   ]
  },
  {
   "cell_type": "code",
   "execution_count": 295,
   "metadata": {},
   "outputs": [
    {
     "data": {
      "text/html": [
       "<div>\n",
       "<style scoped>\n",
       "    .dataframe tbody tr th:only-of-type {\n",
       "        vertical-align: middle;\n",
       "    }\n",
       "\n",
       "    .dataframe tbody tr th {\n",
       "        vertical-align: top;\n",
       "    }\n",
       "\n",
       "    .dataframe thead th {\n",
       "        text-align: right;\n",
       "    }\n",
       "</style>\n",
       "<table border=\"1\" class=\"dataframe\">\n",
       "  <thead>\n",
       "    <tr style=\"text-align: right;\">\n",
       "      <th></th>\n",
       "      <th>Home</th>\n",
       "      <th>Home score</th>\n",
       "      <th>Away</th>\n",
       "      <th>Away score</th>\n",
       "      <th>Year</th>\n",
       "    </tr>\n",
       "  </thead>\n",
       "  <tbody>\n",
       "    <tr>\n",
       "      <th>0</th>\n",
       "      <td>France</td>\n",
       "      <td>4</td>\n",
       "      <td>Mexico</td>\n",
       "      <td>1</td>\n",
       "      <td>1930</td>\n",
       "    </tr>\n",
       "    <tr>\n",
       "      <th>1</th>\n",
       "      <td>Argentina</td>\n",
       "      <td>1</td>\n",
       "      <td>France</td>\n",
       "      <td>0</td>\n",
       "      <td>1930</td>\n",
       "    </tr>\n",
       "    <tr>\n",
       "      <th>2</th>\n",
       "      <td>Chile</td>\n",
       "      <td>3</td>\n",
       "      <td>Mexico</td>\n",
       "      <td>0</td>\n",
       "      <td>1930</td>\n",
       "    </tr>\n",
       "    <tr>\n",
       "      <th>3</th>\n",
       "      <td>Chile</td>\n",
       "      <td>1</td>\n",
       "      <td>France</td>\n",
       "      <td>0</td>\n",
       "      <td>1930</td>\n",
       "    </tr>\n",
       "    <tr>\n",
       "      <th>4</th>\n",
       "      <td>Argentina</td>\n",
       "      <td>6</td>\n",
       "      <td>Mexico</td>\n",
       "      <td>3</td>\n",
       "      <td>1930</td>\n",
       "    </tr>\n",
       "    <tr>\n",
       "      <th>...</th>\n",
       "      <td>...</td>\n",
       "      <td>...</td>\n",
       "      <td>...</td>\n",
       "      <td>...</td>\n",
       "      <td>...</td>\n",
       "    </tr>\n",
       "    <tr>\n",
       "      <th>924</th>\n",
       "      <td>England</td>\n",
       "      <td>1</td>\n",
       "      <td>France</td>\n",
       "      <td>2</td>\n",
       "      <td>2022</td>\n",
       "    </tr>\n",
       "    <tr>\n",
       "      <th>925</th>\n",
       "      <td>Argentina</td>\n",
       "      <td>3</td>\n",
       "      <td>Croatia</td>\n",
       "      <td>0</td>\n",
       "      <td>2022</td>\n",
       "    </tr>\n",
       "    <tr>\n",
       "      <th>926</th>\n",
       "      <td>France</td>\n",
       "      <td>2</td>\n",
       "      <td>Morocco</td>\n",
       "      <td>0</td>\n",
       "      <td>2022</td>\n",
       "    </tr>\n",
       "    <tr>\n",
       "      <th>927</th>\n",
       "      <td>Croatia</td>\n",
       "      <td>2</td>\n",
       "      <td>Morocco</td>\n",
       "      <td>1</td>\n",
       "      <td>2022</td>\n",
       "    </tr>\n",
       "    <tr>\n",
       "      <th>928</th>\n",
       "      <td>Argentina</td>\n",
       "      <td>3</td>\n",
       "      <td>France</td>\n",
       "      <td>3</td>\n",
       "      <td>2022</td>\n",
       "    </tr>\n",
       "  </tbody>\n",
       "</table>\n",
       "<p>928 rows × 5 columns</p>\n",
       "</div>"
      ],
      "text/plain": [
       "          Home  Home score     Away  Away score  Year\n",
       "0       France           4   Mexico           1  1930\n",
       "1    Argentina           1   France           0  1930\n",
       "2        Chile           3   Mexico           0  1930\n",
       "3        Chile           1   France           0  1930\n",
       "4    Argentina           6   Mexico           3  1930\n",
       "..         ...         ...      ...         ...   ...\n",
       "924    England           1   France           2  2022\n",
       "925  Argentina           3  Croatia           0  2022\n",
       "926     France           2  Morocco           0  2022\n",
       "927    Croatia           2  Morocco           1  2022\n",
       "928  Argentina           3   France           3  2022\n",
       "\n",
       "[928 rows x 5 columns]"
      ]
     },
     "execution_count": 295,
     "metadata": {},
     "output_type": "execute_result"
    }
   ],
   "source": [
    "df = df.dropna()\n",
    "df[['Home score', 'Away score', 'Year']] = df[['Home score', 'Away score', 'Year']].astype('Int64')\n",
    "df.dtypes\n",
    "df\n"
   ]
  },
  {
   "cell_type": "code",
   "execution_count": 294,
   "metadata": {},
   "outputs": [],
   "source": [
    "df.to_csv('clean_data.csv', index=False)\n"
   ]
  }
 ],
 "metadata": {
  "kernelspec": {
   "display_name": "Python 3",
   "language": "python",
   "name": "python3"
  },
  "language_info": {
   "codemirror_mode": {
    "name": "ipython",
    "version": 3
   },
   "file_extension": ".py",
   "mimetype": "text/x-python",
   "name": "python",
   "nbconvert_exporter": "python",
   "pygments_lexer": "ipython3",
   "version": "3.12.2"
  }
 },
 "nbformat": 4,
 "nbformat_minor": 2
}
