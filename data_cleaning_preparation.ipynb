{
 "cells": [
  {
   "cell_type": "markdown",
   "metadata": {},
   "source": [
    "### Data cleaning and preparation"
   ]
  },
  {
   "cell_type": "code",
   "execution_count": 223,
   "metadata": {},
   "outputs": [],
   "source": [
    "#Libraries\n",
    "#!pip install pandas\n",
    "import pandas as pd\n",
    "import re"
   ]
  },
  {
   "cell_type": "code",
   "execution_count": 224,
   "metadata": {},
   "outputs": [
    {
     "name": "stdout",
     "output_type": "stream",
     "text": [
      "<class 'pandas.core.frame.DataFrame'>\n",
      "RangeIndex: 929 entries, 0 to 928\n",
      "Data columns (total 4 columns):\n",
      " #   Column  Non-Null Count  Dtype \n",
      "---  ------  --------------  ----- \n",
      " 0   home    929 non-null    object\n",
      " 1   score   929 non-null    object\n",
      " 2   away    929 non-null    object\n",
      " 3   year    929 non-null    int64 \n",
      "dtypes: int64(1), object(3)\n",
      "memory usage: 29.2+ KB\n"
     ]
    }
   ],
   "source": [
    "df = pd.read_csv('fifa_cups.csv')\n",
    "df.columns\n",
    "\n",
    "df['home'] = df['home'].str.strip()\n",
    "df['away'] = df['away'].str.strip()\n",
    "\n",
    "df[df['home'].isnull()]\n",
    "df.dropna(inplace=True)\n",
    "df.info()\n"
   ]
  },
  {
   "cell_type": "code",
   "execution_count": 225,
   "metadata": {},
   "outputs": [],
   "source": [
    "outlier = df[df['home'].str.contains('Sweden') & df['away'].str.contains('Austria') ]\n",
    "#df.drop(index=37, inplace= True)\n",
    "df.query(\"home == 'Sweden'\")\n",
    "\n",
    "patron = r'[a-zA-Z]'\n",
    "lista = df.score.tolist()\n",
    "\n",
    "condition = [i for i, row in enumerate(lista) if re.search(patron, row) is None]\n",
    "df_output = df.iloc[condition]\n",
    "\n",
    "df_output.reset_index(drop=True, inplace=True)\n",
    "df_output\n",
    "\n",
    "df.score = df.score.str.strip()\n",
    "utlier = df[df['home'].str.contains('Sweden') & df['away'].str.contains('Austria') ]\n",
    "df[df['home'].str.contains('Sweden') & df['away'].str.contains('Austria') ]\n",
    "#df[df.score.str.contains(r'[^\\d–]')]\n",
    "\n",
    "df['score']= df['score'].str.replace(r'[^\\d–]','',regex=True)\n",
    "df.reset_index(drop=True, inplace=True)\n",
    "\n",
    "\n",
    "df[['home_score', 'away_score']] = df['score'].str.split('–', expand=True)\n",
    "\n",
    "df.drop(columns=['score'], inplace=True)\n",
    "\n"
   ]
  },
  {
   "cell_type": "code",
   "execution_count": 226,
   "metadata": {},
   "outputs": [],
   "source": [
    "df.rename(columns={'home': 'Home', 'home_score':'Home score','away':'Away','away_score':'Away score', 'year':'Year'}, inplace=True)\n"
   ]
  },
  {
   "cell_type": "code",
   "execution_count": 227,
   "metadata": {},
   "outputs": [],
   "source": [
    "df = df[['Home', 'Home score', 'Away', 'Away score', 'Year']]\n"
   ]
  },
  {
   "cell_type": "code",
   "execution_count": 228,
   "metadata": {},
   "outputs": [],
   "source": [
    "\n",
    "df['Home score'] = df['Home score'].str.strip()\n",
    "df['Away score'] = df['Home score'].str.strip()\n",
    "df['Year'] = df['Home score'].str.strip()\n",
    "#df = df.astype({'Home score':int, 'Away score':int, 'Year':int})\n",
    "\n"
   ]
  },
  {
   "cell_type": "code",
   "execution_count": 229,
   "metadata": {},
   "outputs": [],
   "source": [
    "df = df[df['Year'] != '']\n"
   ]
  },
  {
   "cell_type": "code",
   "execution_count": 230,
   "metadata": {},
   "outputs": [],
   "source": [
    "df[['Home score', 'Away score', 'Year']] = df[['Home score', 'Away score', 'Year']].astype('Int64')\n"
   ]
  },
  {
   "cell_type": "code",
   "execution_count": 231,
   "metadata": {},
   "outputs": [],
   "source": [
    "df.to_csv('clean_data.csv', index=False)"
   ]
  },
  {
   "cell_type": "code",
   "execution_count": null,
   "metadata": {},
   "outputs": [],
   "source": []
  }
 ],
 "metadata": {
  "kernelspec": {
   "display_name": "Python 3",
   "language": "python",
   "name": "python3"
  },
  "language_info": {
   "codemirror_mode": {
    "name": "ipython",
    "version": 3
   },
   "file_extension": ".py",
   "mimetype": "text/x-python",
   "name": "python",
   "nbconvert_exporter": "python",
   "pygments_lexer": "ipython3",
   "version": "3.12.2"
  }
 },
 "nbformat": 4,
 "nbformat_minor": 2
}
